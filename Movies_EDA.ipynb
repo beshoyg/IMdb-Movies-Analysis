{
 "cells": [
  {
   "cell_type": "markdown",
   "metadata": {},
   "source": [
    "## Import Libraries"
   ]
  },
  {
   "cell_type": "code",
   "execution_count": 1,
   "metadata": {},
   "outputs": [],
   "source": [
    "import numpy as np\n",
    "import pandas as pd\n",
    "import os"
   ]
  },
  {
   "cell_type": "markdown",
   "metadata": {},
   "source": [
    "## Reading Data"
   ]
  },
  {
   "cell_type": "code",
   "execution_count": 2,
   "metadata": {},
   "outputs": [
    {
     "name": "stdout",
     "output_type": "stream",
     "text": [
      "C:\\Users\\besho\\Downloads\\New Eplison Materials\\Pandas\\Pandas Movie Project\n"
     ]
    }
   ],
   "source": [
    "print(os.getcwd())"
   ]
  },
  {
   "cell_type": "code",
   "execution_count": 3,
   "metadata": {},
   "outputs": [
    {
     "data": {
      "text/html": [
       "<div>\n",
       "<style scoped>\n",
       "    .dataframe tbody tr th:only-of-type {\n",
       "        vertical-align: middle;\n",
       "    }\n",
       "\n",
       "    .dataframe tbody tr th {\n",
       "        vertical-align: top;\n",
       "    }\n",
       "\n",
       "    .dataframe thead th {\n",
       "        text-align: right;\n",
       "    }\n",
       "</style>\n",
       "<table border=\"1\" class=\"dataframe\">\n",
       "  <thead>\n",
       "    <tr style=\"text-align: right;\">\n",
       "      <th></th>\n",
       "      <th>ranking of movie</th>\n",
       "      <th>movie name</th>\n",
       "      <th>Year</th>\n",
       "      <th>certificate</th>\n",
       "      <th>runtime</th>\n",
       "      <th>genre</th>\n",
       "      <th>RATING</th>\n",
       "      <th>DETAIL ABOUT MOVIE</th>\n",
       "      <th>DIRECTOR</th>\n",
       "      <th>ACTOR 1</th>\n",
       "      <th>ACTOR 2</th>\n",
       "      <th>ACTOR 3</th>\n",
       "      <th>ACTOR 4</th>\n",
       "      <th>votes</th>\n",
       "      <th>metascore</th>\n",
       "      <th>GROSS COLLECTION</th>\n",
       "    </tr>\n",
       "  </thead>\n",
       "  <tbody>\n",
       "    <tr>\n",
       "      <th>0</th>\n",
       "      <td>1</td>\n",
       "      <td>Jai Bhim</td>\n",
       "      <td>-2021</td>\n",
       "      <td>TV-MA</td>\n",
       "      <td>164 min</td>\n",
       "      <td>Crime, Drama</td>\n",
       "      <td>9.4</td>\n",
       "      <td>When a tribal man is arrested for a case of al...</td>\n",
       "      <td>T.J. Gnanavel</td>\n",
       "      <td>Suriya</td>\n",
       "      <td>Lijo Mol Jose</td>\n",
       "      <td>Manikandan</td>\n",
       "      <td>Rajisha Vijayan</td>\n",
       "      <td>163431</td>\n",
       "      <td>NaN</td>\n",
       "      <td>NaN</td>\n",
       "    </tr>\n",
       "    <tr>\n",
       "      <th>1</th>\n",
       "      <td>2</td>\n",
       "      <td>The Shawshank Redemption</td>\n",
       "      <td>-1994</td>\n",
       "      <td>R</td>\n",
       "      <td>142 min</td>\n",
       "      <td>Drama</td>\n",
       "      <td>9.3</td>\n",
       "      <td>Two imprisoned men bond over a number of years...</td>\n",
       "      <td>Frank Darabont</td>\n",
       "      <td>Tim Robbins</td>\n",
       "      <td>Morgan Freeman</td>\n",
       "      <td>Bob Gunton</td>\n",
       "      <td>William Sadler</td>\n",
       "      <td>2515762</td>\n",
       "      <td>80.0</td>\n",
       "      <td>$28.34M</td>\n",
       "    </tr>\n",
       "    <tr>\n",
       "      <th>2</th>\n",
       "      <td>3</td>\n",
       "      <td>The Godfather</td>\n",
       "      <td>-1972</td>\n",
       "      <td>R</td>\n",
       "      <td>175 min</td>\n",
       "      <td>Crime, Drama</td>\n",
       "      <td>9.2</td>\n",
       "      <td>The Godfather follows Vito Corleone, Don of th...</td>\n",
       "      <td>Francis Ford Coppola</td>\n",
       "      <td>Marlon Brando</td>\n",
       "      <td>Al Pacino</td>\n",
       "      <td>James Caan</td>\n",
       "      <td>Diane Keaton</td>\n",
       "      <td>1732749</td>\n",
       "      <td>100.0</td>\n",
       "      <td>$134.97M</td>\n",
       "    </tr>\n",
       "    <tr>\n",
       "      <th>3</th>\n",
       "      <td>4</td>\n",
       "      <td>The Dark Knight</td>\n",
       "      <td>-2008</td>\n",
       "      <td>PG-13</td>\n",
       "      <td>152 min</td>\n",
       "      <td>Action, Crime, Drama</td>\n",
       "      <td>9.0</td>\n",
       "      <td>When the menace known as the Joker wreaks havo...</td>\n",
       "      <td>Christopher Nolan</td>\n",
       "      <td>Christian Bale</td>\n",
       "      <td>Heath Ledger</td>\n",
       "      <td>Aaron Eckhart</td>\n",
       "      <td>Michael Caine</td>\n",
       "      <td>2466041</td>\n",
       "      <td>84.0</td>\n",
       "      <td>$534.86M</td>\n",
       "    </tr>\n",
       "    <tr>\n",
       "      <th>4</th>\n",
       "      <td>5</td>\n",
       "      <td>The Godfather: Part II</td>\n",
       "      <td>-1974</td>\n",
       "      <td>R</td>\n",
       "      <td>202 min</td>\n",
       "      <td>Crime, Drama</td>\n",
       "      <td>9.0</td>\n",
       "      <td>The early life and career of Vito Corleone in ...</td>\n",
       "      <td>Francis Ford Coppola</td>\n",
       "      <td>Al Pacino</td>\n",
       "      <td>Robert De Niro</td>\n",
       "      <td>Robert Duvall</td>\n",
       "      <td>Diane Keaton</td>\n",
       "      <td>1202401</td>\n",
       "      <td>90.0</td>\n",
       "      <td>$57.30M</td>\n",
       "    </tr>\n",
       "    <tr>\n",
       "      <th>...</th>\n",
       "      <td>...</td>\n",
       "      <td>...</td>\n",
       "      <td>...</td>\n",
       "      <td>...</td>\n",
       "      <td>...</td>\n",
       "      <td>...</td>\n",
       "      <td>...</td>\n",
       "      <td>...</td>\n",
       "      <td>...</td>\n",
       "      <td>...</td>\n",
       "      <td>...</td>\n",
       "      <td>...</td>\n",
       "      <td>...</td>\n",
       "      <td>...</td>\n",
       "      <td>...</td>\n",
       "      <td>...</td>\n",
       "    </tr>\n",
       "    <tr>\n",
       "      <th>95</th>\n",
       "      <td>96</td>\n",
       "      <td>Braveheart</td>\n",
       "      <td>-1995</td>\n",
       "      <td>R</td>\n",
       "      <td>178 min</td>\n",
       "      <td>Biography, Drama, History</td>\n",
       "      <td>8.3</td>\n",
       "      <td>Scottish warrior William Wallace leads his cou...</td>\n",
       "      <td>Mel Gibson</td>\n",
       "      <td>Mel Gibson</td>\n",
       "      <td>Sophie Marceau</td>\n",
       "      <td>Patrick McGoohan</td>\n",
       "      <td>Angus Macfadyen</td>\n",
       "      <td>999264</td>\n",
       "      <td>68.0</td>\n",
       "      <td>$75.60M</td>\n",
       "    </tr>\n",
       "    <tr>\n",
       "      <th>96</th>\n",
       "      <td>97</td>\n",
       "      <td>Reservoir Dogs</td>\n",
       "      <td>-1992</td>\n",
       "      <td>R</td>\n",
       "      <td>99 min</td>\n",
       "      <td>Crime, Drama, Thriller</td>\n",
       "      <td>8.3</td>\n",
       "      <td>When a simple jewelry heist goes horribly wron...</td>\n",
       "      <td>Quentin Tarantino</td>\n",
       "      <td>Harvey Keitel</td>\n",
       "      <td>Tim Roth</td>\n",
       "      <td>Michael Madsen</td>\n",
       "      <td>Chris Penn</td>\n",
       "      <td>970977</td>\n",
       "      <td>79.0</td>\n",
       "      <td>$2.83M</td>\n",
       "    </tr>\n",
       "    <tr>\n",
       "      <th>97</th>\n",
       "      <td>98</td>\n",
       "      <td>Full Metal Jacket</td>\n",
       "      <td>-1987</td>\n",
       "      <td>R</td>\n",
       "      <td>116 min</td>\n",
       "      <td>Drama, War</td>\n",
       "      <td>8.3</td>\n",
       "      <td>A pragmatic U.S. Marine observes the dehumaniz...</td>\n",
       "      <td>Stanley Kubrick</td>\n",
       "      <td>Matthew Modine</td>\n",
       "      <td>R. Lee Ermey</td>\n",
       "      <td>Vincent D'Onofrio</td>\n",
       "      <td>Adam Baldwin</td>\n",
       "      <td>710376</td>\n",
       "      <td>76.0</td>\n",
       "      <td>$46.36M</td>\n",
       "    </tr>\n",
       "    <tr>\n",
       "      <th>98</th>\n",
       "      <td>99</td>\n",
       "      <td>Come and See</td>\n",
       "      <td>-1985</td>\n",
       "      <td>Not Rated</td>\n",
       "      <td>142 min</td>\n",
       "      <td>Drama, Thriller, War</td>\n",
       "      <td>8.3</td>\n",
       "      <td>After finding an old rifle, a young boy joins ...</td>\n",
       "      <td>Elem Klimov</td>\n",
       "      <td>Aleksey Kravchenko</td>\n",
       "      <td>Olga Mironova</td>\n",
       "      <td>Liubomiras Laucevicius</td>\n",
       "      <td>Vladas Bagdonas</td>\n",
       "      <td>70608</td>\n",
       "      <td>NaN</td>\n",
       "      <td>NaN</td>\n",
       "    </tr>\n",
       "    <tr>\n",
       "      <th>99</th>\n",
       "      <td>100</td>\n",
       "      <td>Aliens</td>\n",
       "      <td>-1986</td>\n",
       "      <td>R</td>\n",
       "      <td>137 min</td>\n",
       "      <td>Action, Adventure, Sci-Fi</td>\n",
       "      <td>8.3</td>\n",
       "      <td>Fifty-seven years after surviving an apocalypt...</td>\n",
       "      <td>James Cameron</td>\n",
       "      <td>Sigourney Weaver</td>\n",
       "      <td>Michael Biehn</td>\n",
       "      <td>Carrie Henn</td>\n",
       "      <td>Paul Reiser</td>\n",
       "      <td>687704</td>\n",
       "      <td>84.0</td>\n",
       "      <td>$85.16M</td>\n",
       "    </tr>\n",
       "  </tbody>\n",
       "</table>\n",
       "<p>100 rows × 16 columns</p>\n",
       "</div>"
      ],
      "text/plain": [
       "    ranking of movie               movie name    Year certificate  runtime  \\\n",
       "0                  1                  Jai Bhim  -2021       TV-MA  164 min   \n",
       "1                  2  The Shawshank Redemption  -1994           R  142 min   \n",
       "2                  3             The Godfather  -1972           R  175 min   \n",
       "3                  4           The Dark Knight  -2008       PG-13  152 min   \n",
       "4                  5    The Godfather: Part II  -1974           R  202 min   \n",
       "..               ...                       ...    ...         ...      ...   \n",
       "95                96                Braveheart  -1995           R  178 min   \n",
       "96                97            Reservoir Dogs  -1992           R   99 min   \n",
       "97                98         Full Metal Jacket  -1987           R  116 min   \n",
       "98                99              Come and See  -1985   Not Rated  142 min   \n",
       "99               100                    Aliens  -1986           R  137 min   \n",
       "\n",
       "                        genre  RATING  \\\n",
       "0                Crime, Drama     9.4   \n",
       "1                       Drama     9.3   \n",
       "2                Crime, Drama     9.2   \n",
       "3        Action, Crime, Drama     9.0   \n",
       "4                Crime, Drama     9.0   \n",
       "..                        ...     ...   \n",
       "95  Biography, Drama, History     8.3   \n",
       "96     Crime, Drama, Thriller     8.3   \n",
       "97                 Drama, War     8.3   \n",
       "98       Drama, Thriller, War     8.3   \n",
       "99  Action, Adventure, Sci-Fi     8.3   \n",
       "\n",
       "                                   DETAIL ABOUT MOVIE             DIRECTOR   \\\n",
       "0   When a tribal man is arrested for a case of al...         T.J. Gnanavel   \n",
       "1   Two imprisoned men bond over a number of years...        Frank Darabont   \n",
       "2   The Godfather follows Vito Corleone, Don of th...  Francis Ford Coppola   \n",
       "3   When the menace known as the Joker wreaks havo...     Christopher Nolan   \n",
       "4   The early life and career of Vito Corleone in ...  Francis Ford Coppola   \n",
       "..                                                ...                   ...   \n",
       "95  Scottish warrior William Wallace leads his cou...            Mel Gibson   \n",
       "96  When a simple jewelry heist goes horribly wron...     Quentin Tarantino   \n",
       "97  A pragmatic U.S. Marine observes the dehumaniz...       Stanley Kubrick   \n",
       "98  After finding an old rifle, a young boy joins ...           Elem Klimov   \n",
       "99  Fifty-seven years after surviving an apocalypt...         James Cameron   \n",
       "\n",
       "               ACTOR 1         ACTOR 2                 ACTOR 3  \\\n",
       "0               Suriya   Lijo Mol Jose              Manikandan   \n",
       "1          Tim Robbins  Morgan Freeman              Bob Gunton   \n",
       "2        Marlon Brando       Al Pacino              James Caan   \n",
       "3       Christian Bale    Heath Ledger           Aaron Eckhart   \n",
       "4            Al Pacino  Robert De Niro           Robert Duvall   \n",
       "..                 ...             ...                     ...   \n",
       "95          Mel Gibson  Sophie Marceau        Patrick McGoohan   \n",
       "96       Harvey Keitel        Tim Roth          Michael Madsen   \n",
       "97      Matthew Modine    R. Lee Ermey       Vincent D'Onofrio   \n",
       "98  Aleksey Kravchenko   Olga Mironova  Liubomiras Laucevicius   \n",
       "99    Sigourney Weaver   Michael Biehn             Carrie Henn   \n",
       "\n",
       "            ACTOR 4    votes  metascore GROSS COLLECTION  \n",
       "0   Rajisha Vijayan   163431        NaN              NaN  \n",
       "1    William Sadler  2515762       80.0          $28.34M  \n",
       "2      Diane Keaton  1732749      100.0         $134.97M  \n",
       "3     Michael Caine  2466041       84.0         $534.86M  \n",
       "4      Diane Keaton  1202401       90.0          $57.30M  \n",
       "..              ...      ...        ...              ...  \n",
       "95  Angus Macfadyen   999264       68.0          $75.60M  \n",
       "96       Chris Penn   970977       79.0           $2.83M  \n",
       "97     Adam Baldwin   710376       76.0          $46.36M  \n",
       "98  Vladas Bagdonas    70608        NaN              NaN  \n",
       "99      Paul Reiser   687704       84.0          $85.16M  \n",
       "\n",
       "[100 rows x 16 columns]"
      ]
     },
     "execution_count": 3,
     "metadata": {},
     "output_type": "execute_result"
    }
   ],
   "source": [
    "movies= pd.read_csv('imdb_movies.csv')\n",
    "movies.head(100)\n"
   ]
  },
  {
   "cell_type": "code",
   "execution_count": 4,
   "metadata": {},
   "outputs": [
    {
     "data": {
      "text/html": [
       "<div>\n",
       "<style scoped>\n",
       "    .dataframe tbody tr th:only-of-type {\n",
       "        vertical-align: middle;\n",
       "    }\n",
       "\n",
       "    .dataframe tbody tr th {\n",
       "        vertical-align: top;\n",
       "    }\n",
       "\n",
       "    .dataframe thead th {\n",
       "        text-align: right;\n",
       "    }\n",
       "</style>\n",
       "<table border=\"1\" class=\"dataframe\">\n",
       "  <thead>\n",
       "    <tr style=\"text-align: right;\">\n",
       "      <th></th>\n",
       "      <th>ranking of movie</th>\n",
       "      <th>movie name</th>\n",
       "      <th>Year</th>\n",
       "      <th>certificate</th>\n",
       "      <th>runtime</th>\n",
       "      <th>genre</th>\n",
       "      <th>RATING</th>\n",
       "      <th>DETAIL ABOUT MOVIE</th>\n",
       "      <th>DIRECTOR</th>\n",
       "      <th>ACTOR 1</th>\n",
       "      <th>ACTOR 2</th>\n",
       "      <th>ACTOR 3</th>\n",
       "      <th>ACTOR 4</th>\n",
       "      <th>votes</th>\n",
       "      <th>metascore</th>\n",
       "      <th>GROSS COLLECTION</th>\n",
       "    </tr>\n",
       "  </thead>\n",
       "  <tbody>\n",
       "    <tr>\n",
       "      <th>245</th>\n",
       "      <td>246</td>\n",
       "      <td>Mr. Smith Goes to Washington</td>\n",
       "      <td>-1939</td>\n",
       "      <td>Passed</td>\n",
       "      <td>129 min</td>\n",
       "      <td>Comedy, Drama</td>\n",
       "      <td>8.1</td>\n",
       "      <td>A naive youth leader is appointed to fill a va...</td>\n",
       "      <td>Frank Capra</td>\n",
       "      <td>James Stewart</td>\n",
       "      <td>Jean Arthur</td>\n",
       "      <td>Claude Rains</td>\n",
       "      <td>Edward Arnold</td>\n",
       "      <td>112642</td>\n",
       "      <td>73.0</td>\n",
       "      <td>$9.60M</td>\n",
       "    </tr>\n",
       "    <tr>\n",
       "      <th>246</th>\n",
       "      <td>247</td>\n",
       "      <td>Gone with the Wind</td>\n",
       "      <td>-1939</td>\n",
       "      <td>Passed</td>\n",
       "      <td>238 min</td>\n",
       "      <td>Drama, History, Romance</td>\n",
       "      <td>8.1</td>\n",
       "      <td>The manipulative daughter of a Georgia plantat...</td>\n",
       "      <td>Victor Fleming</td>\n",
       "      <td>George Cukor</td>\n",
       "      <td>Sam Wood</td>\n",
       "      <td>Clark Gable</td>\n",
       "      <td>Vivien Leigh</td>\n",
       "      <td>304725</td>\n",
       "      <td>97.0</td>\n",
       "      <td>$198.68M</td>\n",
       "    </tr>\n",
       "    <tr>\n",
       "      <th>247</th>\n",
       "      <td>248</td>\n",
       "      <td>It Happened One Night</td>\n",
       "      <td>-1934</td>\n",
       "      <td>Passed</td>\n",
       "      <td>105 min</td>\n",
       "      <td>Comedy, Romance</td>\n",
       "      <td>8.1</td>\n",
       "      <td>A renegade reporter trailing a young runaway h...</td>\n",
       "      <td>Frank Capra</td>\n",
       "      <td>Clark Gable</td>\n",
       "      <td>Claudette Colbert</td>\n",
       "      <td>Walter Connolly</td>\n",
       "      <td>Roscoe Karns</td>\n",
       "      <td>100198</td>\n",
       "      <td>87.0</td>\n",
       "      <td>$4.36M</td>\n",
       "    </tr>\n",
       "    <tr>\n",
       "      <th>248</th>\n",
       "      <td>249</td>\n",
       "      <td>The Passion of Joan of Arc</td>\n",
       "      <td>-1928</td>\n",
       "      <td>Passed</td>\n",
       "      <td>114 min</td>\n",
       "      <td>Biography, Drama, History</td>\n",
       "      <td>8.1</td>\n",
       "      <td>In 1431, Jeanne d'Arc is placed on trial on ch...</td>\n",
       "      <td>Carl Theodor Dreyer</td>\n",
       "      <td>Maria Falconetti</td>\n",
       "      <td>Eugene Silvain</td>\n",
       "      <td>André Berley</td>\n",
       "      <td>Maurice Schutz</td>\n",
       "      <td>52264</td>\n",
       "      <td>NaN</td>\n",
       "      <td>$0.02M</td>\n",
       "    </tr>\n",
       "    <tr>\n",
       "      <th>249</th>\n",
       "      <td>250</td>\n",
       "      <td>The General</td>\n",
       "      <td>-1926</td>\n",
       "      <td>Passed</td>\n",
       "      <td>67 min</td>\n",
       "      <td>Action, Adventure, Comedy</td>\n",
       "      <td>8.1</td>\n",
       "      <td>After being rejected by the Confederate milita...</td>\n",
       "      <td>Clyde Bruckman</td>\n",
       "      <td>Buster Keaton</td>\n",
       "      <td>Buster Keaton</td>\n",
       "      <td>Marion Mack</td>\n",
       "      <td>Glen Cavender</td>\n",
       "      <td>88022</td>\n",
       "      <td>NaN</td>\n",
       "      <td>$1.03M</td>\n",
       "    </tr>\n",
       "  </tbody>\n",
       "</table>\n",
       "</div>"
      ],
      "text/plain": [
       "     ranking of movie                   movie name    Year certificate  \\\n",
       "245               246  Mr. Smith Goes to Washington  -1939      Passed   \n",
       "246               247            Gone with the Wind  -1939      Passed   \n",
       "247               248         It Happened One Night  -1934      Passed   \n",
       "248               249    The Passion of Joan of Arc  -1928      Passed   \n",
       "249               250                   The General  -1926      Passed   \n",
       "\n",
       "     runtime                      genre  RATING  \\\n",
       "245  129 min              Comedy, Drama     8.1   \n",
       "246  238 min    Drama, History, Romance     8.1   \n",
       "247  105 min            Comedy, Romance     8.1   \n",
       "248  114 min  Biography, Drama, History     8.1   \n",
       "249   67 min  Action, Adventure, Comedy     8.1   \n",
       "\n",
       "                                    DETAIL ABOUT MOVIE            DIRECTOR   \\\n",
       "245  A naive youth leader is appointed to fill a va...          Frank Capra   \n",
       "246  The manipulative daughter of a Georgia plantat...       Victor Fleming   \n",
       "247  A renegade reporter trailing a young runaway h...          Frank Capra   \n",
       "248  In 1431, Jeanne d'Arc is placed on trial on ch...  Carl Theodor Dreyer   \n",
       "249  After being rejected by the Confederate milita...       Clyde Bruckman   \n",
       "\n",
       "              ACTOR 1            ACTOR 2          ACTOR 3         ACTOR 4  \\\n",
       "245     James Stewart        Jean Arthur     Claude Rains   Edward Arnold   \n",
       "246      George Cukor           Sam Wood      Clark Gable    Vivien Leigh   \n",
       "247       Clark Gable  Claudette Colbert  Walter Connolly    Roscoe Karns   \n",
       "248  Maria Falconetti     Eugene Silvain     André Berley  Maurice Schutz   \n",
       "249     Buster Keaton      Buster Keaton      Marion Mack   Glen Cavender   \n",
       "\n",
       "      votes  metascore GROSS COLLECTION  \n",
       "245  112642       73.0           $9.60M  \n",
       "246  304725       97.0         $198.68M  \n",
       "247  100198       87.0           $4.36M  \n",
       "248   52264        NaN           $0.02M  \n",
       "249   88022        NaN           $1.03M  "
      ]
     },
     "execution_count": 4,
     "metadata": {},
     "output_type": "execute_result"
    }
   ],
   "source": [
    "movies.tail()"
   ]
  },
  {
   "cell_type": "code",
   "execution_count": 5,
   "metadata": {},
   "outputs": [
    {
     "name": "stdout",
     "output_type": "stream",
     "text": [
      "<class 'pandas.core.frame.DataFrame'>\n",
      "RangeIndex: 250 entries, 0 to 249\n",
      "Data columns (total 16 columns):\n",
      " #   Column              Non-Null Count  Dtype  \n",
      "---  ------              --------------  -----  \n",
      " 0   ranking of movie    250 non-null    int64  \n",
      " 1   movie name          250 non-null    object \n",
      " 2   Year                250 non-null    object \n",
      " 3   certificate         250 non-null    object \n",
      " 4   runtime             250 non-null    object \n",
      " 5   genre               250 non-null    object \n",
      " 6   RATING              250 non-null    float64\n",
      " 7   DETAIL ABOUT MOVIE  250 non-null    object \n",
      " 8   DIRECTOR            250 non-null    object \n",
      " 9   ACTOR 1             250 non-null    object \n",
      " 10  ACTOR 2             250 non-null    object \n",
      " 11  ACTOR 3             250 non-null    object \n",
      " 12  ACTOR 4             250 non-null    object \n",
      " 13  votes               250 non-null    int64  \n",
      " 14  metascore           218 non-null    float64\n",
      " 15  GROSS COLLECTION    214 non-null    object \n",
      "dtypes: float64(2), int64(2), object(12)\n",
      "memory usage: 31.4+ KB\n"
     ]
    }
   ],
   "source": [
    "movies.info()"
   ]
  },
  {
   "cell_type": "code",
   "execution_count": 6,
   "metadata": {},
   "outputs": [
    {
     "data": {
      "text/plain": [
       "Index(['ranking of movie', 'movie name ', 'Year', 'certificate', 'runtime',\n",
       "       'genre', 'RATING', 'DETAIL ABOUT MOVIE', 'DIRECTOR ', 'ACTOR 1',\n",
       "       'ACTOR 2', 'ACTOR 3', 'ACTOR 4', 'votes', 'metascore',\n",
       "       'GROSS COLLECTION'],\n",
       "      dtype='object')"
      ]
     },
     "execution_count": 6,
     "metadata": {},
     "output_type": "execute_result"
    }
   ],
   "source": [
    "movies.columns"
   ]
  },
  {
   "cell_type": "markdown",
   "metadata": {},
   "source": [
    "## Drop Unnecessary Columns"
   ]
  },
  {
   "cell_type": "code",
   "execution_count": 7,
   "metadata": {},
   "outputs": [
    {
     "data": {
      "text/html": [
       "<div>\n",
       "<style scoped>\n",
       "    .dataframe tbody tr th:only-of-type {\n",
       "        vertical-align: middle;\n",
       "    }\n",
       "\n",
       "    .dataframe tbody tr th {\n",
       "        vertical-align: top;\n",
       "    }\n",
       "\n",
       "    .dataframe thead th {\n",
       "        text-align: right;\n",
       "    }\n",
       "</style>\n",
       "<table border=\"1\" class=\"dataframe\">\n",
       "  <thead>\n",
       "    <tr style=\"text-align: right;\">\n",
       "      <th></th>\n",
       "      <th>movie name</th>\n",
       "      <th>Year</th>\n",
       "      <th>runtime</th>\n",
       "      <th>genre</th>\n",
       "      <th>RATING</th>\n",
       "      <th>DIRECTOR</th>\n",
       "      <th>ACTOR 1</th>\n",
       "      <th>ACTOR 2</th>\n",
       "      <th>votes</th>\n",
       "      <th>metascore</th>\n",
       "      <th>GROSS COLLECTION</th>\n",
       "    </tr>\n",
       "  </thead>\n",
       "  <tbody>\n",
       "    <tr>\n",
       "      <th>0</th>\n",
       "      <td>Jai Bhim</td>\n",
       "      <td>-2021</td>\n",
       "      <td>164 min</td>\n",
       "      <td>Crime, Drama</td>\n",
       "      <td>9.4</td>\n",
       "      <td>T.J. Gnanavel</td>\n",
       "      <td>Suriya</td>\n",
       "      <td>Lijo Mol Jose</td>\n",
       "      <td>163431</td>\n",
       "      <td>NaN</td>\n",
       "      <td>NaN</td>\n",
       "    </tr>\n",
       "    <tr>\n",
       "      <th>1</th>\n",
       "      <td>The Shawshank Redemption</td>\n",
       "      <td>-1994</td>\n",
       "      <td>142 min</td>\n",
       "      <td>Drama</td>\n",
       "      <td>9.3</td>\n",
       "      <td>Frank Darabont</td>\n",
       "      <td>Tim Robbins</td>\n",
       "      <td>Morgan Freeman</td>\n",
       "      <td>2515762</td>\n",
       "      <td>80.0</td>\n",
       "      <td>$28.34M</td>\n",
       "    </tr>\n",
       "    <tr>\n",
       "      <th>2</th>\n",
       "      <td>The Godfather</td>\n",
       "      <td>-1972</td>\n",
       "      <td>175 min</td>\n",
       "      <td>Crime, Drama</td>\n",
       "      <td>9.2</td>\n",
       "      <td>Francis Ford Coppola</td>\n",
       "      <td>Marlon Brando</td>\n",
       "      <td>Al Pacino</td>\n",
       "      <td>1732749</td>\n",
       "      <td>100.0</td>\n",
       "      <td>$134.97M</td>\n",
       "    </tr>\n",
       "    <tr>\n",
       "      <th>3</th>\n",
       "      <td>The Dark Knight</td>\n",
       "      <td>-2008</td>\n",
       "      <td>152 min</td>\n",
       "      <td>Action, Crime, Drama</td>\n",
       "      <td>9.0</td>\n",
       "      <td>Christopher Nolan</td>\n",
       "      <td>Christian Bale</td>\n",
       "      <td>Heath Ledger</td>\n",
       "      <td>2466041</td>\n",
       "      <td>84.0</td>\n",
       "      <td>$534.86M</td>\n",
       "    </tr>\n",
       "    <tr>\n",
       "      <th>4</th>\n",
       "      <td>The Godfather: Part II</td>\n",
       "      <td>-1974</td>\n",
       "      <td>202 min</td>\n",
       "      <td>Crime, Drama</td>\n",
       "      <td>9.0</td>\n",
       "      <td>Francis Ford Coppola</td>\n",
       "      <td>Al Pacino</td>\n",
       "      <td>Robert De Niro</td>\n",
       "      <td>1202401</td>\n",
       "      <td>90.0</td>\n",
       "      <td>$57.30M</td>\n",
       "    </tr>\n",
       "  </tbody>\n",
       "</table>\n",
       "</div>"
      ],
      "text/plain": [
       "                movie name    Year  runtime                 genre  RATING  \\\n",
       "0                  Jai Bhim  -2021  164 min          Crime, Drama     9.4   \n",
       "1  The Shawshank Redemption  -1994  142 min                 Drama     9.3   \n",
       "2             The Godfather  -1972  175 min          Crime, Drama     9.2   \n",
       "3           The Dark Knight  -2008  152 min  Action, Crime, Drama     9.0   \n",
       "4    The Godfather: Part II  -1974  202 min          Crime, Drama     9.0   \n",
       "\n",
       "              DIRECTOR          ACTOR 1         ACTOR 2    votes  metascore  \\\n",
       "0         T.J. Gnanavel          Suriya   Lijo Mol Jose   163431        NaN   \n",
       "1        Frank Darabont     Tim Robbins  Morgan Freeman  2515762       80.0   \n",
       "2  Francis Ford Coppola   Marlon Brando       Al Pacino  1732749      100.0   \n",
       "3     Christopher Nolan  Christian Bale    Heath Ledger  2466041       84.0   \n",
       "4  Francis Ford Coppola       Al Pacino  Robert De Niro  1202401       90.0   \n",
       "\n",
       "  GROSS COLLECTION  \n",
       "0              NaN  \n",
       "1          $28.34M  \n",
       "2         $134.97M  \n",
       "3         $534.86M  \n",
       "4          $57.30M  "
      ]
     },
     "execution_count": 7,
     "metadata": {},
     "output_type": "execute_result"
    }
   ],
   "source": [
    "movies.drop(['ranking of movie', 'certificate', 'DETAIL ABOUT MOVIE', 'ACTOR 3', 'ACTOR 4'], axis =1, inplace = True)\n",
    "movies.head()"
   ]
  },
  {
   "cell_type": "code",
   "execution_count": 8,
   "metadata": {},
   "outputs": [],
   "source": [
    "movies.columns = movies.columns.str.lower().str.strip()"
   ]
  },
  {
   "cell_type": "code",
   "execution_count": 9,
   "metadata": {},
   "outputs": [
    {
     "data": {
      "text/plain": [
       "Index(['movie name', 'year', 'runtime', 'genre', 'rating', 'director',\n",
       "       'actor 1', 'actor 2', 'votes', 'metascore', 'gross collection'],\n",
       "      dtype='object')"
      ]
     },
     "execution_count": 9,
     "metadata": {},
     "output_type": "execute_result"
    }
   ],
   "source": [
    "movies.columns.str.lower().str.strip()"
   ]
  },
  {
   "cell_type": "code",
   "execution_count": 10,
   "metadata": {},
   "outputs": [],
   "source": [
    "movies.columns= movies.columns.str.replace(' ', '_')"
   ]
  },
  {
   "cell_type": "code",
   "execution_count": 11,
   "metadata": {},
   "outputs": [
    {
     "data": {
      "text/plain": [
       "Index(['movie_name', 'year', 'runtime', 'genre', 'rating', 'director',\n",
       "       'actor_1', 'actor_2', 'votes', 'metascore', 'gross_collection'],\n",
       "      dtype='object')"
      ]
     },
     "execution_count": 11,
     "metadata": {},
     "output_type": "execute_result"
    }
   ],
   "source": [
    "movies.columns"
   ]
  },
  {
   "cell_type": "code",
   "execution_count": 12,
   "metadata": {},
   "outputs": [
    {
     "data": {
      "text/html": [
       "<div>\n",
       "<style scoped>\n",
       "    .dataframe tbody tr th:only-of-type {\n",
       "        vertical-align: middle;\n",
       "    }\n",
       "\n",
       "    .dataframe tbody tr th {\n",
       "        vertical-align: top;\n",
       "    }\n",
       "\n",
       "    .dataframe thead th {\n",
       "        text-align: right;\n",
       "    }\n",
       "</style>\n",
       "<table border=\"1\" class=\"dataframe\">\n",
       "  <thead>\n",
       "    <tr style=\"text-align: right;\">\n",
       "      <th></th>\n",
       "      <th>rating</th>\n",
       "      <th>votes</th>\n",
       "      <th>metascore</th>\n",
       "    </tr>\n",
       "  </thead>\n",
       "  <tbody>\n",
       "    <tr>\n",
       "      <th>count</th>\n",
       "      <td>250.000000</td>\n",
       "      <td>2.500000e+02</td>\n",
       "      <td>218.000000</td>\n",
       "    </tr>\n",
       "    <tr>\n",
       "      <th>mean</th>\n",
       "      <td>8.308400</td>\n",
       "      <td>5.785299e+05</td>\n",
       "      <td>82.449541</td>\n",
       "    </tr>\n",
       "    <tr>\n",
       "      <th>std</th>\n",
       "      <td>0.234669</td>\n",
       "      <td>4.951304e+05</td>\n",
       "      <td>10.822392</td>\n",
       "    </tr>\n",
       "    <tr>\n",
       "      <th>min</th>\n",
       "      <td>8.100000</td>\n",
       "      <td>2.653800e+04</td>\n",
       "      <td>55.000000</td>\n",
       "    </tr>\n",
       "    <tr>\n",
       "      <th>25%</th>\n",
       "      <td>8.100000</td>\n",
       "      <td>1.688628e+05</td>\n",
       "      <td>75.000000</td>\n",
       "    </tr>\n",
       "    <tr>\n",
       "      <th>50%</th>\n",
       "      <td>8.200000</td>\n",
       "      <td>4.313355e+05</td>\n",
       "      <td>84.000000</td>\n",
       "    </tr>\n",
       "    <tr>\n",
       "      <th>75%</th>\n",
       "      <td>8.400000</td>\n",
       "      <td>8.854255e+05</td>\n",
       "      <td>90.000000</td>\n",
       "    </tr>\n",
       "    <tr>\n",
       "      <th>max</th>\n",
       "      <td>9.400000</td>\n",
       "      <td>2.515762e+06</td>\n",
       "      <td>100.000000</td>\n",
       "    </tr>\n",
       "  </tbody>\n",
       "</table>\n",
       "</div>"
      ],
      "text/plain": [
       "           rating         votes   metascore\n",
       "count  250.000000  2.500000e+02  218.000000\n",
       "mean     8.308400  5.785299e+05   82.449541\n",
       "std      0.234669  4.951304e+05   10.822392\n",
       "min      8.100000  2.653800e+04   55.000000\n",
       "25%      8.100000  1.688628e+05   75.000000\n",
       "50%      8.200000  4.313355e+05   84.000000\n",
       "75%      8.400000  8.854255e+05   90.000000\n",
       "max      9.400000  2.515762e+06  100.000000"
      ]
     },
     "execution_count": 12,
     "metadata": {},
     "output_type": "execute_result"
    }
   ],
   "source": [
    "movies.describe()"
   ]
  },
  {
   "cell_type": "code",
   "execution_count": null,
   "metadata": {},
   "outputs": [],
   "source": []
  },
  {
   "cell_type": "markdown",
   "metadata": {},
   "source": [
    "## What is the minimum and maximum ratings ?\n"
   ]
  },
  {
   "cell_type": "code",
   "execution_count": 13,
   "metadata": {},
   "outputs": [
    {
     "data": {
      "text/plain": [
       "8.1"
      ]
     },
     "execution_count": 13,
     "metadata": {},
     "output_type": "execute_result"
    }
   ],
   "source": [
    "movies.rating.min()"
   ]
  },
  {
   "cell_type": "code",
   "execution_count": 14,
   "metadata": {},
   "outputs": [
    {
     "data": {
      "text/plain": [
       "8.1"
      ]
     },
     "execution_count": 14,
     "metadata": {},
     "output_type": "execute_result"
    }
   ],
   "source": [
    "movies['rating'].min()"
   ]
  },
  {
   "cell_type": "code",
   "execution_count": 15,
   "metadata": {},
   "outputs": [
    {
     "data": {
      "text/plain": [
       "9.4"
      ]
     },
     "execution_count": 15,
     "metadata": {},
     "output_type": "execute_result"
    }
   ],
   "source": [
    "movies.rating.max()"
   ]
  },
  {
   "cell_type": "markdown",
   "metadata": {},
   "source": [
    "## What are the movies with rating > 9 ?"
   ]
  },
  {
   "cell_type": "code",
   "execution_count": 16,
   "metadata": {},
   "outputs": [
    {
     "data": {
      "text/html": [
       "<div>\n",
       "<style scoped>\n",
       "    .dataframe tbody tr th:only-of-type {\n",
       "        vertical-align: middle;\n",
       "    }\n",
       "\n",
       "    .dataframe tbody tr th {\n",
       "        vertical-align: top;\n",
       "    }\n",
       "\n",
       "    .dataframe thead th {\n",
       "        text-align: right;\n",
       "    }\n",
       "</style>\n",
       "<table border=\"1\" class=\"dataframe\">\n",
       "  <thead>\n",
       "    <tr style=\"text-align: right;\">\n",
       "      <th></th>\n",
       "      <th>movie_name</th>\n",
       "      <th>year</th>\n",
       "      <th>runtime</th>\n",
       "      <th>genre</th>\n",
       "      <th>rating</th>\n",
       "      <th>director</th>\n",
       "      <th>actor_1</th>\n",
       "      <th>actor_2</th>\n",
       "      <th>votes</th>\n",
       "      <th>metascore</th>\n",
       "      <th>gross_collection</th>\n",
       "    </tr>\n",
       "  </thead>\n",
       "  <tbody>\n",
       "    <tr>\n",
       "      <th>0</th>\n",
       "      <td>Jai Bhim</td>\n",
       "      <td>-2021</td>\n",
       "      <td>164 min</td>\n",
       "      <td>Crime, Drama</td>\n",
       "      <td>9.4</td>\n",
       "      <td>T.J. Gnanavel</td>\n",
       "      <td>Suriya</td>\n",
       "      <td>Lijo Mol Jose</td>\n",
       "      <td>163431</td>\n",
       "      <td>NaN</td>\n",
       "      <td>NaN</td>\n",
       "    </tr>\n",
       "    <tr>\n",
       "      <th>1</th>\n",
       "      <td>The Shawshank Redemption</td>\n",
       "      <td>-1994</td>\n",
       "      <td>142 min</td>\n",
       "      <td>Drama</td>\n",
       "      <td>9.3</td>\n",
       "      <td>Frank Darabont</td>\n",
       "      <td>Tim Robbins</td>\n",
       "      <td>Morgan Freeman</td>\n",
       "      <td>2515762</td>\n",
       "      <td>80.0</td>\n",
       "      <td>$28.34M</td>\n",
       "    </tr>\n",
       "    <tr>\n",
       "      <th>2</th>\n",
       "      <td>The Godfather</td>\n",
       "      <td>-1972</td>\n",
       "      <td>175 min</td>\n",
       "      <td>Crime, Drama</td>\n",
       "      <td>9.2</td>\n",
       "      <td>Francis Ford Coppola</td>\n",
       "      <td>Marlon Brando</td>\n",
       "      <td>Al Pacino</td>\n",
       "      <td>1732749</td>\n",
       "      <td>100.0</td>\n",
       "      <td>$134.97M</td>\n",
       "    </tr>\n",
       "  </tbody>\n",
       "</table>\n",
       "</div>"
      ],
      "text/plain": [
       "                 movie_name   year  runtime         genre  rating  \\\n",
       "0                  Jai Bhim  -2021  164 min  Crime, Drama     9.4   \n",
       "1  The Shawshank Redemption  -1994  142 min         Drama     9.3   \n",
       "2             The Godfather  -1972  175 min  Crime, Drama     9.2   \n",
       "\n",
       "               director        actor_1         actor_2    votes  metascore  \\\n",
       "0         T.J. Gnanavel         Suriya   Lijo Mol Jose   163431        NaN   \n",
       "1        Frank Darabont    Tim Robbins  Morgan Freeman  2515762       80.0   \n",
       "2  Francis Ford Coppola  Marlon Brando       Al Pacino  1732749      100.0   \n",
       "\n",
       "  gross_collection  \n",
       "0              NaN  \n",
       "1          $28.34M  \n",
       "2         $134.97M  "
      ]
     },
     "execution_count": 16,
     "metadata": {},
     "output_type": "execute_result"
    }
   ],
   "source": [
    "movies[movies['rating']> 9]"
   ]
  },
  {
   "cell_type": "code",
   "execution_count": 17,
   "metadata": {},
   "outputs": [
    {
     "data": {
      "text/plain": [
       "0                    Jai Bhim\n",
       "1    The Shawshank Redemption\n",
       "2               The Godfather\n",
       "Name: movie_name, dtype: object"
      ]
     },
     "execution_count": 17,
     "metadata": {},
     "output_type": "execute_result"
    }
   ],
   "source": [
    "movies[movies['rating']> 9]['movie_name']"
   ]
  },
  {
   "cell_type": "code",
   "execution_count": 18,
   "metadata": {},
   "outputs": [
    {
     "data": {
      "text/html": [
       "<div>\n",
       "<style scoped>\n",
       "    .dataframe tbody tr th:only-of-type {\n",
       "        vertical-align: middle;\n",
       "    }\n",
       "\n",
       "    .dataframe tbody tr th {\n",
       "        vertical-align: top;\n",
       "    }\n",
       "\n",
       "    .dataframe thead th {\n",
       "        text-align: right;\n",
       "    }\n",
       "</style>\n",
       "<table border=\"1\" class=\"dataframe\">\n",
       "  <thead>\n",
       "    <tr style=\"text-align: right;\">\n",
       "      <th></th>\n",
       "      <th>movie_name</th>\n",
       "      <th>rating</th>\n",
       "    </tr>\n",
       "  </thead>\n",
       "  <tbody>\n",
       "    <tr>\n",
       "      <th>0</th>\n",
       "      <td>Jai Bhim</td>\n",
       "      <td>9.4</td>\n",
       "    </tr>\n",
       "    <tr>\n",
       "      <th>1</th>\n",
       "      <td>The Shawshank Redemption</td>\n",
       "      <td>9.3</td>\n",
       "    </tr>\n",
       "    <tr>\n",
       "      <th>2</th>\n",
       "      <td>The Godfather</td>\n",
       "      <td>9.2</td>\n",
       "    </tr>\n",
       "  </tbody>\n",
       "</table>\n",
       "</div>"
      ],
      "text/plain": [
       "                 movie_name  rating\n",
       "0                  Jai Bhim     9.4\n",
       "1  The Shawshank Redemption     9.3\n",
       "2             The Godfather     9.2"
      ]
     },
     "execution_count": 18,
     "metadata": {},
     "output_type": "execute_result"
    }
   ],
   "source": [
    "movies[movies['rating']> 9][['movie_name' , 'rating']]"
   ]
  },
  {
   "cell_type": "code",
   "execution_count": 19,
   "metadata": {},
   "outputs": [
    {
     "data": {
      "text/html": [
       "<div>\n",
       "<style scoped>\n",
       "    .dataframe tbody tr th:only-of-type {\n",
       "        vertical-align: middle;\n",
       "    }\n",
       "\n",
       "    .dataframe tbody tr th {\n",
       "        vertical-align: top;\n",
       "    }\n",
       "\n",
       "    .dataframe thead th {\n",
       "        text-align: right;\n",
       "    }\n",
       "</style>\n",
       "<table border=\"1\" class=\"dataframe\">\n",
       "  <thead>\n",
       "    <tr style=\"text-align: right;\">\n",
       "      <th></th>\n",
       "      <th>movie_name</th>\n",
       "      <th>rating</th>\n",
       "    </tr>\n",
       "  </thead>\n",
       "  <tbody>\n",
       "    <tr>\n",
       "      <th>2</th>\n",
       "      <td>The Godfather</td>\n",
       "      <td>9.2</td>\n",
       "    </tr>\n",
       "    <tr>\n",
       "      <th>1</th>\n",
       "      <td>The Shawshank Redemption</td>\n",
       "      <td>9.3</td>\n",
       "    </tr>\n",
       "    <tr>\n",
       "      <th>0</th>\n",
       "      <td>Jai Bhim</td>\n",
       "      <td>9.4</td>\n",
       "    </tr>\n",
       "  </tbody>\n",
       "</table>\n",
       "</div>"
      ],
      "text/plain": [
       "                 movie_name  rating\n",
       "2             The Godfather     9.2\n",
       "1  The Shawshank Redemption     9.3\n",
       "0                  Jai Bhim     9.4"
      ]
     },
     "execution_count": 19,
     "metadata": {},
     "output_type": "execute_result"
    }
   ],
   "source": [
    "movies[movies['rating']> 9][['movie_name' , 'rating']].sort_values('rating')"
   ]
  },
  {
   "cell_type": "markdown",
   "metadata": {},
   "source": [
    "## Top 10 movies per metascore and user rating"
   ]
  },
  {
   "cell_type": "code",
   "execution_count": 20,
   "metadata": {},
   "outputs": [
    {
     "data": {
      "text/html": [
       "<div>\n",
       "<style scoped>\n",
       "    .dataframe tbody tr th:only-of-type {\n",
       "        vertical-align: middle;\n",
       "    }\n",
       "\n",
       "    .dataframe tbody tr th {\n",
       "        vertical-align: top;\n",
       "    }\n",
       "\n",
       "    .dataframe thead th {\n",
       "        text-align: right;\n",
       "    }\n",
       "</style>\n",
       "<table border=\"1\" class=\"dataframe\">\n",
       "  <thead>\n",
       "    <tr style=\"text-align: right;\">\n",
       "      <th></th>\n",
       "      <th>movie_name</th>\n",
       "      <th>metascore</th>\n",
       "    </tr>\n",
       "  </thead>\n",
       "  <tbody>\n",
       "    <tr>\n",
       "      <th>112</th>\n",
       "      <td>Vertigo</td>\n",
       "      <td>100.0</td>\n",
       "    </tr>\n",
       "    <tr>\n",
       "      <th>109</th>\n",
       "      <td>Lawrence of Arabia</td>\n",
       "      <td>100.0</td>\n",
       "    </tr>\n",
       "    <tr>\n",
       "      <th>117</th>\n",
       "      <td>Citizen Kane</td>\n",
       "      <td>100.0</td>\n",
       "    </tr>\n",
       "    <tr>\n",
       "      <th>50</th>\n",
       "      <td>Casablanca</td>\n",
       "      <td>100.0</td>\n",
       "    </tr>\n",
       "    <tr>\n",
       "      <th>49</th>\n",
       "      <td>Rear Window</td>\n",
       "      <td>100.0</td>\n",
       "    </tr>\n",
       "    <tr>\n",
       "      <th>2</th>\n",
       "      <td>The Godfather</td>\n",
       "      <td>100.0</td>\n",
       "    </tr>\n",
       "    <tr>\n",
       "      <th>224</th>\n",
       "      <td>Fanny and Alexander</td>\n",
       "      <td>100.0</td>\n",
       "    </tr>\n",
       "    <tr>\n",
       "      <th>113</th>\n",
       "      <td>Singin' in the Rain</td>\n",
       "      <td>99.0</td>\n",
       "    </tr>\n",
       "    <tr>\n",
       "      <th>52</th>\n",
       "      <td>City Lights</td>\n",
       "      <td>99.0</td>\n",
       "    </tr>\n",
       "    <tr>\n",
       "      <th>31</th>\n",
       "      <td>Seven Samurai</td>\n",
       "      <td>98.0</td>\n",
       "    </tr>\n",
       "  </tbody>\n",
       "</table>\n",
       "</div>"
      ],
      "text/plain": [
       "              movie_name  metascore\n",
       "112              Vertigo      100.0\n",
       "109   Lawrence of Arabia      100.0\n",
       "117         Citizen Kane      100.0\n",
       "50            Casablanca      100.0\n",
       "49           Rear Window      100.0\n",
       "2          The Godfather      100.0\n",
       "224  Fanny and Alexander      100.0\n",
       "113  Singin' in the Rain       99.0\n",
       "52           City Lights       99.0\n",
       "31         Seven Samurai       98.0"
      ]
     },
     "execution_count": 20,
     "metadata": {},
     "output_type": "execute_result"
    }
   ],
   "source": [
    "# Top per metascore\n",
    "top_per_ms = movies[['movie_name', 'metascore']].sort_values('metascore', ascending = False).head(10)\n",
    "top_per_ms"
   ]
  },
  {
   "cell_type": "code",
   "execution_count": 21,
   "metadata": {},
   "outputs": [
    {
     "data": {
      "text/html": [
       "<div>\n",
       "<style scoped>\n",
       "    .dataframe tbody tr th:only-of-type {\n",
       "        vertical-align: middle;\n",
       "    }\n",
       "\n",
       "    .dataframe tbody tr th {\n",
       "        vertical-align: top;\n",
       "    }\n",
       "\n",
       "    .dataframe thead th {\n",
       "        text-align: right;\n",
       "    }\n",
       "</style>\n",
       "<table border=\"1\" class=\"dataframe\">\n",
       "  <thead>\n",
       "    <tr style=\"text-align: right;\">\n",
       "      <th></th>\n",
       "      <th>movie_name</th>\n",
       "      <th>rating</th>\n",
       "    </tr>\n",
       "  </thead>\n",
       "  <tbody>\n",
       "    <tr>\n",
       "      <th>0</th>\n",
       "      <td>Jai Bhim</td>\n",
       "      <td>9.4</td>\n",
       "    </tr>\n",
       "    <tr>\n",
       "      <th>1</th>\n",
       "      <td>The Shawshank Redemption</td>\n",
       "      <td>9.3</td>\n",
       "    </tr>\n",
       "    <tr>\n",
       "      <th>2</th>\n",
       "      <td>The Godfather</td>\n",
       "      <td>9.2</td>\n",
       "    </tr>\n",
       "    <tr>\n",
       "      <th>3</th>\n",
       "      <td>The Dark Knight</td>\n",
       "      <td>9.0</td>\n",
       "    </tr>\n",
       "    <tr>\n",
       "      <th>4</th>\n",
       "      <td>The Godfather: Part II</td>\n",
       "      <td>9.0</td>\n",
       "    </tr>\n",
       "    <tr>\n",
       "      <th>5</th>\n",
       "      <td>12 Angry Men</td>\n",
       "      <td>9.0</td>\n",
       "    </tr>\n",
       "    <tr>\n",
       "      <th>6</th>\n",
       "      <td>The Lord of the Rings: The Return of the King</td>\n",
       "      <td>8.9</td>\n",
       "    </tr>\n",
       "    <tr>\n",
       "      <th>7</th>\n",
       "      <td>Pulp Fiction</td>\n",
       "      <td>8.9</td>\n",
       "    </tr>\n",
       "    <tr>\n",
       "      <th>8</th>\n",
       "      <td>Schindler's List</td>\n",
       "      <td>8.9</td>\n",
       "    </tr>\n",
       "    <tr>\n",
       "      <th>12</th>\n",
       "      <td>The Lord of the Rings: The Fellowship of the Ring</td>\n",
       "      <td>8.8</td>\n",
       "    </tr>\n",
       "  </tbody>\n",
       "</table>\n",
       "</div>"
      ],
      "text/plain": [
       "                                           movie_name  rating\n",
       "0                                            Jai Bhim     9.4\n",
       "1                            The Shawshank Redemption     9.3\n",
       "2                                       The Godfather     9.2\n",
       "3                                     The Dark Knight     9.0\n",
       "4                              The Godfather: Part II     9.0\n",
       "5                                        12 Angry Men     9.0\n",
       "6       The Lord of the Rings: The Return of the King     8.9\n",
       "7                                        Pulp Fiction     8.9\n",
       "8                                    Schindler's List     8.9\n",
       "12  The Lord of the Rings: The Fellowship of the Ring     8.8"
      ]
     },
     "execution_count": 21,
     "metadata": {},
     "output_type": "execute_result"
    }
   ],
   "source": [
    "#Top per user rating\n",
    "top_per_ur = movies[['movie_name', 'rating']].sort_values('rating', ascending = False).head(10)\n",
    "top_per_ur"
   ]
  },
  {
   "cell_type": "markdown",
   "metadata": {},
   "source": [
    "## Top 10 genres"
   ]
  },
  {
   "cell_type": "code",
   "execution_count": 22,
   "metadata": {},
   "outputs": [
    {
     "data": {
      "text/plain": [
       "genre\n",
       "Action, Adventure             2\n",
       "Action, Adventure, Comedy     1\n",
       "Action, Adventure, Drama      6\n",
       "Action, Adventure, Fantasy    4\n",
       "Action, Adventure, Sci-Fi     5\n",
       "                             ..\n",
       "Horror, Mystery, Thriller     1\n",
       "Horror, Sci-Fi                1\n",
       "Mystery, Romance, Thriller    1\n",
       "Mystery, Thriller             3\n",
       "Western                       2\n",
       "Name: movie_name, Length: 109, dtype: int64"
      ]
     },
     "execution_count": 22,
     "metadata": {},
     "output_type": "execute_result"
    }
   ],
   "source": [
    "movies.groupby('genre')['movie_name'].count()"
   ]
  },
  {
   "cell_type": "code",
   "execution_count": 23,
   "metadata": {},
   "outputs": [
    {
     "data": {
      "text/plain": [
       "genre\n",
       "Drama                           22\n",
       "Crime, Drama                    14\n",
       "Biography, Drama, History        9\n",
       "Animation, Adventure, Comedy     8\n",
       "Crime, Drama, Mystery            8\n",
       "Drama, War                       8\n",
       "Drama, Romance                   7\n",
       "Action, Crime, Drama             7\n",
       "Action, Adventure, Drama         6\n",
       "Action, Adventure, Sci-Fi        5\n",
       "Name: movie_name, dtype: int64"
      ]
     },
     "execution_count": 23,
     "metadata": {},
     "output_type": "execute_result"
    }
   ],
   "source": [
    "most_by_genre = movies.groupby('genre')['movie_name'].count().sort_values(ascending = False).head(10)\n",
    "most_by_genre"
   ]
  },
  {
   "cell_type": "markdown",
   "metadata": {},
   "source": [
    "## Top 10 Directories"
   ]
  },
  {
   "cell_type": "code",
   "execution_count": 24,
   "metadata": {},
   "outputs": [
    {
     "data": {
      "text/plain": [
       "director\n",
       "T.J. Gnanavel           9.400000\n",
       "Frank Darabont          8.950000\n",
       "Francis Ford Coppola    8.866667\n",
       "Jon Watts               8.800000\n",
       "Peter Jackson           8.800000\n",
       "Lana Wachowski          8.700000\n",
       "Irvin Kershner          8.700000\n",
       "Robert Zemeckis         8.650000\n",
       "Jonathan Demme          8.600000\n",
       "Fernando Meirelles      8.600000\n",
       "Roberto Benigni         8.600000\n",
       "George Lucas            8.600000\n",
       "Masaki Kobayashi        8.600000\n",
       "Christopher Nolan       8.557143\n",
       "Sidney Lumet            8.550000\n",
       "Name: rating, dtype: float64"
      ]
     },
     "execution_count": 24,
     "metadata": {},
     "output_type": "execute_result"
    }
   ],
   "source": [
    "directors_rating = movies.groupby('director')['rating'].mean().sort_values(ascending = False).head(15)\n",
    "directors_rating"
   ]
  },
  {
   "cell_type": "markdown",
   "metadata": {},
   "source": [
    "## Top 10 First Actors"
   ]
  },
  {
   "cell_type": "code",
   "execution_count": 26,
   "metadata": {},
   "outputs": [
    {
     "data": {
      "text/plain": [
       "actor_1\n",
       "Suriya                 9.40\n",
       "Tim Robbins            9.30\n",
       "Liam Neeson            8.90\n",
       "John Travolta          8.90\n",
       "Tom Holland            8.80\n",
       "Elijah Wood            8.80\n",
       "Henry Fonda            8.75\n",
       "Lilly Wachowski        8.70\n",
       "Marlon Brando          8.65\n",
       "Daveigh Chase          8.60\n",
       "Matthew McConaughey    8.60\n",
       "Roberto Benigni        8.60\n",
       "Morgan Freeman         8.60\n",
       "Kátia Lund             8.60\n",
       "Jodie Foster           8.60\n",
       "Name: rating, dtype: float64"
      ]
     },
     "execution_count": 26,
     "metadata": {},
     "output_type": "execute_result"
    }
   ],
   "source": [
    "first_actors_rating = movies.groupby('actor_1')['rating'].mean().sort_values(ascending = False).head(15)\n",
    "first_actors_rating"
   ]
  },
  {
   "cell_type": "markdown",
   "metadata": {},
   "source": [
    "## Top 10 Second Actors"
   ]
  },
  {
   "cell_type": "code",
   "execution_count": 27,
   "metadata": {},
   "outputs": [
    {
     "data": {
      "text/plain": [
       "actor_2\n",
       "Lijo Mol Jose           9.40\n",
       "Morgan Freeman          9.30\n",
       "Al Pacino               9.20\n",
       "Heath Ledger            9.00\n",
       "Lee J. Cobb             9.00\n",
       "Viggo Mortensen         8.90\n",
       "Ralph Fiennes           8.90\n",
       "Uma Thurman             8.90\n",
       "Zendaya                 8.80\n",
       "Joseph Gordon-Levitt    8.80\n",
       "Robin Wright            8.80\n",
       "Edward Norton           8.80\n",
       "Eli Wallach             8.80\n",
       "Ian McKellen            8.75\n",
       "Louise Fletcher         8.70\n",
       "Name: rating, dtype: float64"
      ]
     },
     "execution_count": 27,
     "metadata": {},
     "output_type": "execute_result"
    }
   ],
   "source": [
    "second_actors_rating = movies.groupby('actor_2')['rating'].mean().sort_values(ascending = False).head(15)\n",
    "second_actors_rating"
   ]
  },
  {
   "cell_type": "code",
   "execution_count": null,
   "metadata": {},
   "outputs": [],
   "source": []
  }
 ],
 "metadata": {
  "interpreter": {
   "hash": "af2dc65967692050cab8e66feb265a08b4036dabf5bf167c8e1e4da3fe6ea63e"
  },
  "kernelspec": {
   "display_name": "Python 3 (ipykernel)",
   "language": "python",
   "name": "python3"
  },
  "language_info": {
   "codemirror_mode": {
    "name": "ipython",
    "version": 3
   },
   "file_extension": ".py",
   "mimetype": "text/x-python",
   "name": "python",
   "nbconvert_exporter": "python",
   "pygments_lexer": "ipython3",
   "version": "3.9.12"
  }
 },
 "nbformat": 4,
 "nbformat_minor": 2
}
